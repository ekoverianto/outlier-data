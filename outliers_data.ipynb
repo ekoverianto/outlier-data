{
  "nbformat": 4,
  "nbformat_minor": 0,
  "metadata": {
    "colab": {
      "name": "outliers_data.ipynb",
      "version": "0.3.2",
      "provenance": [],
      "collapsed_sections": []
    },
    "kernelspec": {
      "name": "python3",
      "display_name": "Python 3"
    }
  },
  "cells": [
    {
      "metadata": {
        "id": "s4MxooxtxehP",
        "colab_type": "code",
        "outputId": "5b0259aa-ed73-487a-8f7a-1780e08c2d35",
        "colab": {
          "base_uri": "https://localhost:8080/",
          "height": 127
        }
      },
      "cell_type": "code",
      "source": [
        "import pandas as pd\n",
        "\n",
        "df = pd.read_csv('https://raw.githubusercontent.com/ekoverianto/outliers-data/master/scoring.csv')\n",
        "\n",
        "df.info()"
      ],
      "execution_count": 52,
      "outputs": [
        {
          "output_type": "stream",
          "text": [
            "<class 'pandas.core.frame.DataFrame'>\n",
            "RangeIndex: 34 entries, 0 to 33\n",
            "Data columns (total 1 columns):\n",
            "score    34 non-null int64\n",
            "dtypes: int64(1)\n",
            "memory usage: 352.0 bytes\n"
          ],
          "name": "stdout"
        }
      ]
    },
    {
      "metadata": {
        "id": "YlMlXNkj9iBQ",
        "colab_type": "code",
        "colab": {
          "base_uri": "https://localhost:8080/",
          "height": 206
        },
        "outputId": "ee632e7d-ab4b-4ca9-89f1-f8e96ed6b910"
      },
      "cell_type": "code",
      "source": [
        "df.head()"
      ],
      "execution_count": 53,
      "outputs": [
        {
          "output_type": "execute_result",
          "data": {
            "text/html": [
              "<div>\n",
              "<style scoped>\n",
              "    .dataframe tbody tr th:only-of-type {\n",
              "        vertical-align: middle;\n",
              "    }\n",
              "\n",
              "    .dataframe tbody tr th {\n",
              "        vertical-align: top;\n",
              "    }\n",
              "\n",
              "    .dataframe thead th {\n",
              "        text-align: right;\n",
              "    }\n",
              "</style>\n",
              "<table border=\"1\" class=\"dataframe\">\n",
              "  <thead>\n",
              "    <tr style=\"text-align: right;\">\n",
              "      <th></th>\n",
              "      <th>score</th>\n",
              "    </tr>\n",
              "  </thead>\n",
              "  <tbody>\n",
              "    <tr>\n",
              "      <th>0</th>\n",
              "      <td>10</td>\n",
              "    </tr>\n",
              "    <tr>\n",
              "      <th>1</th>\n",
              "      <td>12</td>\n",
              "    </tr>\n",
              "    <tr>\n",
              "      <th>2</th>\n",
              "      <td>12</td>\n",
              "    </tr>\n",
              "    <tr>\n",
              "      <th>3</th>\n",
              "      <td>13</td>\n",
              "    </tr>\n",
              "    <tr>\n",
              "      <th>4</th>\n",
              "      <td>12</td>\n",
              "    </tr>\n",
              "  </tbody>\n",
              "</table>\n",
              "</div>"
            ],
            "text/plain": [
              "   score\n",
              "0     10\n",
              "1     12\n",
              "2     12\n",
              "3     13\n",
              "4     12"
            ]
          },
          "metadata": {
            "tags": []
          },
          "execution_count": 53
        }
      ]
    },
    {
      "metadata": {
        "id": "Sa_hZ6DMx6cn",
        "colab_type": "code",
        "colab": {}
      },
      "cell_type": "code",
      "source": [
        "import numpy as np\n",
        "\n",
        "X = df.iloc[:, -1]\n",
        "y = np.arange(34)"
      ],
      "execution_count": 0,
      "outputs": []
    },
    {
      "metadata": {
        "id": "u46uEk1B9su5",
        "colab_type": "code",
        "colab": {
          "base_uri": "https://localhost:8080/",
          "height": 379
        },
        "outputId": "18dd3f7b-e46b-4e67-c34d-c2bd530f42a2"
      },
      "cell_type": "code",
      "source": [
        "import matplotlib.pyplot as plt\n",
        "\n",
        "plt.scatter(X, y)\n",
        "plt.xlabel('Score')\n",
        "plt.ylabel('Times')\n",
        "plt.legend()\n",
        "plt.show()"
      ],
      "execution_count": 55,
      "outputs": [
        {
          "output_type": "stream",
          "text": [
            "No handles with labels found to put in legend.\n"
          ],
          "name": "stderr"
        },
        {
          "output_type": "display_data",
          "data": {
            "image/png": "[encoded data removed]",
            "text/plain": [
              "<Figure size 576x396 with 1 Axes>"
            ]
          },
          "metadata": {
            "tags": []
          }
        }
      ]
    },
    {
      "metadata": {
        "id": "fJMxw9tPyMg1",
        "colab_type": "code",
        "outputId": "a00c7ef3-e33f-4714-a722-9d8278cbf64b",
        "colab": {
          "base_uri": "https://localhost:8080/",
          "height": 416
        }
      },
      "cell_type": "code",
      "source": [
        "import seaborn as sns\n",
        "\n",
        "sns.boxplot(x=X, width=0.1)"
      ],
      "execution_count": 56,
      "outputs": [
        {
          "output_type": "stream",
          "text": [
            "/usr/local/lib/python3.6/dist-packages/seaborn/categorical.py:454: FutureWarning: remove_na is deprecated and is a private function. Do not use.\n",
            "  box_data = remove_na(group_data)\n"
          ],
          "name": "stderr"
        },
        {
          "output_type": "execute_result",
          "data": {
            "text/plain": [
              "<matplotlib.axes._subplots.AxesSubplot at 0x7f8e7f933f98>"
            ]
          },
          "metadata": {
            "tags": []
          },
          "execution_count": 56
        },
        {
          "output_type": "display_data",
          "data": {
            "image/png": "[encoded data removed]",
            "text/plain": [
              "<Figure size 576x396 with 1 Axes>"
            ]
          },
          "metadata": {
            "tags": []
          }
        }
      ]
    },
    {
      "metadata": {
        "id": "qAAwIYnlyrPx",
        "colab_type": "code",
        "outputId": "323c9b36-c5bc-44b6-e997-0a467c14a820",
        "colab": {
          "base_uri": "https://localhost:8080/",
          "height": 641
        }
      },
      "cell_type": "code",
      "source": [
        "import numpy as np\n",
        "for y in X:\n",
        "  z = ((y - np.mean(X))/np.std(X))\n",
        "  print(z)"
      ],
      "execution_count": 57,
      "outputs": [
        {
          "output_type": "stream",
          "text": [
            "-0.31716950114034237\n",
            "-0.18320971183883128\n",
            "-0.18320971183883128\n",
            "-0.11622981718807575\n",
            "-0.18320971183883128\n",
            "-0.2501896064895868\n",
            "-0.0492499225373202\n",
            "-0.11622981718807575\n",
            "0.017729972113435348\n",
            "-0.31716950114034237\n",
            "-0.31716950114034237\n",
            "-0.31716950114034237\n",
            "5.711021017427656\n",
            "-0.18320971183883128\n",
            "-0.0492499225373202\n",
            "-0.11622981718807575\n",
            "-0.18320971183883128\n",
            "-0.31716950114034237\n",
            "-0.31716950114034237\n",
            "-0.2501896064895868\n",
            "-0.18320971183883128\n",
            "0.017729972113435348\n",
            "-0.18320971183883128\n",
            "-0.11622981718807575\n",
            "-0.18320971183883128\n",
            "-0.2501896064895868\n",
            "-0.0492499225373202\n",
            "-0.11622981718807575\n",
            "0.017729972113435348\n",
            "-0.31716950114034237\n",
            "0.017729972113435348\n",
            "-0.18320971183883128\n",
            "-0.31716950114034237\n",
            "-0.11622981718807575\n"
          ],
          "name": "stdout"
        }
      ]
    },
    {
      "metadata": {
        "id": "ciSjvc96KRD5",
        "colab_type": "code",
        "outputId": "0fdd7ad1-0d70-4894-9a58-23e159928cbb",
        "colab": {
          "base_uri": "https://localhost:8080/",
          "height": 35
        }
      },
      "cell_type": "code",
      "source": [
        "t = 1\n",
        "outliers = []\n",
        "for y in X:\n",
        "  z_score = ((y - np.mean(X))/np.std(X))\n",
        "  if z_score > t:\n",
        "    outliers.append(y)\n",
        "print(outliers)"
      ],
      "execution_count": 58,
      "outputs": [
        {
          "output_type": "stream",
          "text": [
            "[100]\n"
          ],
          "name": "stdout"
        }
      ]
    }
  ]
}